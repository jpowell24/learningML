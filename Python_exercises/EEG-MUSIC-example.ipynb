{
 "cells": [
  {
   "cell_type": "code",
   "execution_count": null,
   "metadata": {},
   "outputs": [],
   "source": [
    "import numpy as np\n",
    "import pandas as pd\n",
    "import matplotlib.pyplot as plt\n",
    "import seaborn as sns\n",
    "\n",
    "import mne # See docs: https://mne.tools/dev/generated/mne.io.read_raw_edf.html\n",
    "import pyedflib # See docs: https://pyedflib.readthedocs.io/en/latest/\n",
    "from pyedflib import highlevel"
   ]
  },
  {
   "cell_type": "code",
   "execution_count": null,
   "metadata": {},
   "outputs": [],
   "source": [
    "# Defining the file path as a string for easier use\n",
    "file_path = '/Users/jacksonpowell/Documents/GitHub/learningML/data_files/sub-01_ses-01_task-musicTherapy_eeg.edf'; "
   ]
  },
  {
   "cell_type": "code",
   "execution_count": null,
   "metadata": {},
   "outputs": [],
   "source": [
    "# \"highlevel\" takes data from .edf file (see docs in includes) and saves in signals (np.array of numbers) and headers (dicts)\n",
    "signals, signal_headers, data_header = highlevel.read_edf(file_path); \n",
    "\n",
    "# Printing to see data and size\n",
    "print(signal_headers[0]);  \n",
    "print(signals[0].shape); "
   ]
  },
  {
   "cell_type": "code",
   "execution_count": null,
   "metadata": {},
   "outputs": [],
   "source": [
    "def plot_signal(signal, header, window, color = None, tag = None):\n",
    "\n",
    "    if not tag: \n",
    "        tag = \"\"; \n",
    "\n",
    "    frequency = header[\"sample_frequency\"]; # Takes frequency value from header dict\n",
    "\n",
    "    total_time_seconds = len(signal) / frequency; # Storing total time in seconds\n",
    "    total_time_mins = len(signal) / frequency / 60; # Storing total time in minutes \n",
    "    time = np.linspace(0, total_time_seconds, len(signals[0]), endpoint=True); # Creating x-axis based on frequency\n",
    "\n",
    "    start_time = window[0]; # Taking first value in window array, aka the start of the zoomed frame\n",
    "    stop_time = window[1]; # Taking second value in window array, aka the end of the zoomed frame\n",
    "\n",
    "    time_frame = stop_time - start_time; # Total time of zoomed frame\n",
    "    zoomed_frame = int(time_frame * frequency); # Number of data points in zoomed frame\n",
    "    zoomed_signal = signal[int(start_time * frequency) : int(stop_time * frequency)]; # Subset of signal plotted\n",
    "    zoomed_time = np.linspace(start_time, stop_time, zoomed_frame, endpoint=True); # x-axis for zoomed plot\n",
    "\n",
    "    # Plot specificiations\n",
    "    fig, (ax1, ax2) = plt.subplots(1, 2, figsize = (10, 4)); \n",
    "\n",
    "    ax1.plot(time, signal, color=color); \n",
    "    ax1.set_xlabel('time (s)'); \n",
    "    ax1.set_ylabel('voltage (uV)'); \n",
    "    ax1.set_title(f\"total frame, {tag} {header['label']}\"); \n",
    "\n",
    "    ax2.plot(zoomed_time, zoomed_signal, color=color); \n",
    "    ax2.set_xlabel('time (s)'); \n",
    "    ax2.set_ylabel('voltage (uV)'); \n",
    "    ax2.set_title(f\"from {start_time}s to {stop_time}s, {tag} {header['label']}\"); \n",
    "\n",
    "    plt.show(); "
   ]
  },
  {
   "cell_type": "code",
   "execution_count": null,
   "metadata": {},
   "outputs": [],
   "source": [
    "start_time = 100; \n",
    "stop_time = 110; \n",
    "\n",
    "for i in range(0, len(signal_headers), 1): # Plotting over all electrodes\n",
    "    # Information is the signal to be plotted, its corresponding header, and then a zoomed in window\n",
    "    # I.e., if you want to see a zoomed in plot from seconds 0 to 5, the third argument would be [0,5]\n",
    "    plot_signal(signals[i], signal_headers[i], [start_time, stop_time]); "
   ]
  },
  {
   "cell_type": "code",
   "execution_count": null,
   "metadata": {},
   "outputs": [],
   "source": [
    "from scipy import signal"
   ]
  },
  {
   "cell_type": "code",
   "execution_count": null,
   "metadata": {},
   "outputs": [],
   "source": [
    "signal_num = 5; # Which\n",
    "start_time = 625; \n",
    "stop_time = 635; \n",
    "\n",
    "# Docs: https://docs.scipy.org/doc/scipy/reference/generated/scipy.signal.butter.html\n",
    "bandpass = signal.butter(1, [2, 5], 'bandpass', fs=1024, output='sos'); \n",
    "filtered_signal = signal.sosfilt(bandpass, signals[signal_num]); \n",
    "\n",
    "plot_signal(filtered_signal, signal_headers[signal_num], [start_time, stop_time], 'darkgreen', tag = \"filtered\"); \n",
    "plot_signal(signals[signal_num], signal_headers[signal_num], [start_time, stop_time]); "
   ]
  },
  {
   "cell_type": "code",
   "execution_count": 362,
   "metadata": {},
   "outputs": [],
   "source": [
    "from scipy.fft import fft, ifft, fftfreq\n",
    "from scipy.stats import skew, kurtosis"
   ]
  },
  {
   "cell_type": "code",
   "execution_count": 425,
   "metadata": {},
   "outputs": [],
   "source": [
    "def extractFeatures(signal, header, frequency_domain):\n",
    "\n",
    "    features = {'label' : header['label'], \n",
    "                'mean' : 0, \n",
    "                'std_dev': 0,\n",
    "                'skewness' : 0,\n",
    "                'kurt' : 0, \n",
    "                'dominant_freq' : 0}\n",
    "\n",
    "    features['mean'] = np.mean(signal); \n",
    "    features['std_dev'] = np.std(signal); \n",
    "    features['skewness'] = skew(signal); \n",
    "    features['kurt'] = kurtosis(signal); \n",
    "\n",
    "    delta_t = 1 / header['sample_frequency']; \n",
    "\n",
    "    fft_values = fft(signal); \n",
    "    freq = np.fft.fftfreq(signal.size, d = delta_t); \n",
    "\n",
    "    fft_magnitude = np.abs(fft_values); \n",
    "    features['dominant_freq'] = np.argmax(fft_magnitude); \n",
    "\n",
    "    start_frequency = frequency_domain[0]; \n",
    "    stop_frequency = frequency_domain[1]; \n",
    "\n",
    "    plt.plot(freq, abs(fft_values)); \n"
   ]
  },
  {
   "cell_type": "code",
   "execution_count": 426,
   "metadata": {},
   "outputs": [
    {
     "data": {
      "image/png": "[encoded data removed]",
      "text/plain": [
       "<Figure size 640x480 with 1 Axes>"
      ]
     },
     "metadata": {},
     "output_type": "display_data"
    }
   ],
   "source": [
    "frequency_domain = [0, 1000]; \n",
    "\n",
    "extractFeatures(signals[5], signal_headers[5], frequency_domain); "
   ]
  }
 ],
 "metadata": {
  "kernelspec": {
   "display_name": "Python 3",
   "language": "python",
   "name": "python3"
  },
  "language_info": {
   "codemirror_mode": {
    "name": "ipython",
    "version": 3
   },
   "file_extension": ".py",
   "mimetype": "text/x-python",
   "name": "python",
   "nbconvert_exporter": "python",
   "pygments_lexer": "ipython3",
   "version": "3.9.6"
  }
 },
 "nbformat": 4,
 "nbformat_minor": 2
}
