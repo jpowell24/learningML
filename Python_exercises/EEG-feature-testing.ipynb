{
 "cells": [
  {
   "cell_type": "code",
   "execution_count": null,
   "metadata": {},
   "outputs": [],
   "source": [
    "import numpy as np\n",
    "import pandas as pd\n",
    "import matplotlib.pyplot as plt\n",
    "import seaborn as sns"
   ]
  },
  {
   "cell_type": "code",
   "execution_count": null,
   "metadata": {},
   "outputs": [],
   "source": [
    "x = np.linspace(0, 100, 10000); \n",
    "\n",
    "y = np.random.normal(0, 0.05, len(x))\n",
    "\n",
    "for i in range(0, len(x), 1):\n",
    "    if x[i] > 10 and x[i] < 10.1:\n",
    "        y[i] = 1; \n",
    "    if x[i] > 20 and x[i] < 20.2:\n",
    "        y[i] = 1; \n",
    "\n",
    "plt.plot(x, y)"
   ]
  },
  {
   "cell_type": "code",
   "execution_count": null,
   "metadata": {},
   "outputs": [],
   "source": [
    "std_dev = np.std(y)\n",
    "\n",
    "i = 0; \n",
    "while i < len(y):\n",
    "    if y[i] > 3 * std_dev:\n",
    "        start_pos = i; \n",
    "        while y[i] > 3 * std_dev:\n",
    "            i += 1; \n",
    "        stop_pos = i; \n",
    " \n",
    "        duration = (stop_pos - start_pos) / len(y); \n",
    "        print(duration); \n",
    "        if duration > 0.0015: \n",
    "            print(\"spike\"); \n",
    "\n",
    "    i += 1; "
   ]
  }
 ],
 "metadata": {
  "kernelspec": {
   "display_name": "Python 3",
   "language": "python",
   "name": "python3"
  },
  "language_info": {
   "codemirror_mode": {
    "name": "ipython",
    "version": 3
   },
   "file_extension": ".py",
   "mimetype": "text/x-python",
   "name": "python",
   "nbconvert_exporter": "python",
   "pygments_lexer": "ipython3",
   "version": "3.9.6"
  }
 },
 "nbformat": 4,
 "nbformat_minor": 2
}
