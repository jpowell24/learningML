{
 "cells": [
  {
   "cell_type": "code",
   "execution_count": null,
   "metadata": {},
   "outputs": [],
   "source": [
    "import numpy as np\n",
    "import pandas as pd\n",
    "import matplotlib.pyplot as plt\n",
    "\n",
    "from sklearn.preprocessing import StandardScaler # not installed in standard py library\n",
    "from imblearn.over_sampling import RandomOverSampler"
   ]
  },
  {
   "cell_type": "code",
   "execution_count": null,
   "metadata": {},
   "outputs": [],
   "source": [
    "cols = [\"fLength\", \"fWidth\", \"fSize\", \"fConc\", \"fConc1\", \"fAsym\", \"fM3Long\", \"fM3Trans\", \"fAlpha\", \"fDist\", \"class\"]\n",
    "df = pd.read_csv(\"../data_files/magic+gamma+telescope/magic04.data\", names = cols)\n",
    "df.head()"
   ]
  },
  {
   "cell_type": "code",
   "execution_count": null,
   "metadata": {},
   "outputs": [],
   "source": [
    "df[\"class\"] = (df[\"class\"] == \"g\").astype(int) \n",
    "# if class is g, this is converted to 1, or true\n",
    "# if class is not g, this is converted to 0, or false"
   ]
  },
  {
   "cell_type": "markdown",
   "metadata": {},
   "source": [
    "# Our goal\n",
    "Our goal is to take the dataset we have currently and attempt to predict future classes. This is considered supervised learning because we already know a bunch of classes and their corresponding attributes. "
   ]
  },
  {
   "cell_type": "code",
   "execution_count": null,
   "metadata": {},
   "outputs": [],
   "source": [
    "df.head()"
   ]
  },
  {
   "cell_type": "code",
   "execution_count": null,
   "metadata": {},
   "outputs": [],
   "source": [
    "for label in cols[:-1]: # takes every category in the data frame\n",
    "    plt.hist(df[df[\"class\"] == 1][label], color = \"blue\", label = \"gamma\", alpha = 0.7, density = True) # this says to access everything in the data frame and extract where the class == 1\n",
    "    plt.hist(df[df[\"class\"] == 0][label], color = \"red\", label = \"hadron\", alpha = 0.7, density = True) \n",
    "    # note that alpha is transparency\n",
    "    plt.title(label)\n",
    "    plt.ylabel(\"probability\")\n",
    "    plt.xlabel(label)\n",
    "    plt.legend()\n",
    "    plt.show()"
   ]
  },
  {
   "cell_type": "markdown",
   "metadata": {},
   "source": [
    "# Creating data sets\n",
    "Here we create our training, our validation, and our tet data sets. "
   ]
  },
  {
   "cell_type": "code",
   "execution_count": null,
   "metadata": {},
   "outputs": [],
   "source": [
    "train, valid, test = np.split(df.sample(frac=1), [int(0.6*len(df)), int(0.8*len(df))]) \n",
    "# This means that 0 to 60% of the data is train, 0.6 to 0.8 is valid, and 0.8 to 1 is test\n",
    "# Note that int() here is casting to an integer to discretize the number of cols taken"
   ]
  },
  {
   "cell_type": "code",
   "execution_count": null,
   "metadata": {},
   "outputs": [],
   "source": [
    "def scale_dataset(dataframe, oversample = False): # oversample = False is default\n",
    "    X = dataframe[dataframe.columns[:-1]].values\n",
    "    y = dataframe[dataframe.columns[-1]].values\n",
    "\n",
    "    scaler = StandardScaler()\n",
    "    X = scaler.fit_transform(X)\n",
    "\n",
    "    if(oversample): \n",
    "        ros = RandomOverSampler(); \n",
    "        X, y = ros.fit_resample(X, y); \n",
    "        # somehow this takes the lesser of the classes and resamples it unttil they match\n",
    "\n",
    "    # note that X is a 2d object here\n",
    "    data = np.hstack((X, np.reshape(y, (-1, 1)))) \n",
    "    # stacking X and y horizontally, but you must reshape y to fit the 2d X\n",
    "    # using -1 here tells the computer to infer the first dimension of y, which could also be accomplished by len(y)\n",
    "\n",
    "    return data, X, y"
   ]
  },
  {
   "cell_type": "code",
   "execution_count": null,
   "metadata": {},
   "outputs": [],
   "source": [
    "# notably, there is a large difference in the number of data points we have\n",
    "print(len(train[train[\"class\"]==1]))\n",
    "print(len(train[train[\"class\"]==0]))\n",
    "# because there is many more 1 than 0, we will want to over sample 0 to match the amount of data\n",
    "# to do so we use the imblearn random sampler\n",
    "\n",
    "train, X_train, y_train = scale_dataset(train, oversample = True)\n",
    "\n",
    "print(len(y_train))\n",
    "print(sum(y_train == 1))\n",
    "print(sum(y_train == 0))\n",
    "# and we can see they are equal now\n",
    "\n",
    "# note that for our actual test sets, we do not want to over sample because we want them to replicate real data\n",
    "valid, X_valid, y_valid = scale_dataset(valid, oversample = False)\n",
    "test, X_test, y_test = scale_dataset(test, oversample = False)"
   ]
  },
  {
   "cell_type": "markdown",
   "metadata": {},
   "source": [
    "# K nearest neighbors (KNN)"
   ]
  },
  {
   "cell_type": "code",
   "execution_count": null,
   "metadata": {},
   "outputs": [],
   "source": [
    "from sklearn.neighbors import KNeighborsClassifier\n",
    "from sklearn.metrics import classification_report"
   ]
  },
  {
   "cell_type": "code",
   "execution_count": null,
   "metadata": {},
   "outputs": [],
   "source": [
    "knn_model = KNeighborsClassifier(n_neighbors = 5)\n",
    "knn_model.fit(X_train, y_train)"
   ]
  },
  {
   "cell_type": "code",
   "execution_count": null,
   "metadata": {},
   "outputs": [],
   "source": [
    "y_pred = knn_model.predict(X_test)\n",
    "print(y_pred)\n",
    "print(y_test)\n",
    "print(classification_report(y_test, y_pred))\n",
    "# accuracy is not bad!\n",
    "# precision and recall... I don't know what that means\n",
    "# interestingly, running with n = 1 showed the highest accuracy (at 82%)---using more neighbors is not necessarily good"
   ]
  },
  {
   "cell_type": "markdown",
   "metadata": {},
   "source": [
    "# Naive Bayes"
   ]
  },
  {
   "cell_type": "code",
   "execution_count": null,
   "metadata": {},
   "outputs": [],
   "source": [
    "from sklearn.naive_bayes import GaussianNB"
   ]
  },
  {
   "cell_type": "code",
   "execution_count": null,
   "metadata": {},
   "outputs": [],
   "source": [
    "nb_model = GaussianNB()\n",
    "nb_model = nb_model.fit(X_train, y_train)"
   ]
  },
  {
   "cell_type": "code",
   "execution_count": null,
   "metadata": {},
   "outputs": [],
   "source": [
    "y_prod = nb_model.predict(X_test)\n",
    "print(classification_report(y_test, y_prod))\n",
    "# Naive Bayes essentially uses Bayes theorem to calculate the probability of some point being in some classification\n",
    "# the accuracy for this is actually worse, in this case, than KNN"
   ]
  },
  {
   "cell_type": "markdown",
   "metadata": {},
   "source": [
    "# Logistic regression"
   ]
  },
  {
   "cell_type": "code",
   "execution_count": null,
   "metadata": {},
   "outputs": [],
   "source": [
    "from sklearn.linear_model import LogisticRegression"
   ]
  },
  {
   "cell_type": "code",
   "execution_count": null,
   "metadata": {},
   "outputs": [],
   "source": [
    "lg_model = LogisticRegression()\n",
    "lg_model = lg_model.fit(X_train, y_train)"
   ]
  },
  {
   "cell_type": "code",
   "execution_count": null,
   "metadata": {},
   "outputs": [],
   "source": [
    "y_prod = lg_model.predict(X_test)\n",
    "print(classification_report(y_test, y_prod))\n",
    "# KNN still performs the best so far!"
   ]
  },
  {
   "cell_type": "markdown",
   "metadata": {},
   "source": [
    "# SVM"
   ]
  },
  {
   "cell_type": "code",
   "execution_count": null,
   "metadata": {},
   "outputs": [],
   "source": [
    "from sklearn.svm import SVC # support vector classifier"
   ]
  },
  {
   "cell_type": "code",
   "execution_count": null,
   "metadata": {},
   "outputs": [],
   "source": [
    "svm_model = SVC()\n",
    "svm_model = svm_model.fit(X_train, y_train)"
   ]
  },
  {
   "cell_type": "code",
   "execution_count": null,
   "metadata": {},
   "outputs": [],
   "source": [
    "y_prod = svm_model.predict(X_test)\n",
    "print(classification_report(y_test, y_prod))\n",
    "# best accuracy so far! "
   ]
  },
  {
   "cell_type": "markdown",
   "metadata": {},
   "source": [
    "# Neural networks\n",
    "Here we will use tensorflow"
   ]
  },
  {
   "cell_type": "code",
   "execution_count": null,
   "metadata": {},
   "outputs": [],
   "source": [
    "import tensorflow as tf"
   ]
  },
  {
   "cell_type": "code",
   "execution_count": null,
   "metadata": {},
   "outputs": [],
   "source": [
    "def plot_history(history):\n",
    "    fig, (ax1, ax2) = plt.subplots(1, 2, figsize = (10, 4))\n",
    "    ax1.plot(history.history['loss'], label='loss')\n",
    "    ax1.plot(history.history['val_loss'], label='val_loss')\n",
    "    ax1.set_xlabel('Epoch') # Epoch is a training cycle, so we plot loss over training cycles\n",
    "    ax1.set_ylabel('Binary crossentropy')\n",
    "    ax1.grid(True)\n",
    "\n",
    "    ax2.plot(history.history['accuracy'], label='accuracy')\n",
    "    ax2.plot(history.history['val_accuracy'], label='val_accuracy')\n",
    "    ax2.set_xlabel('Epoch')\n",
    "    ax2.set_ylabel('accuracy')\n",
    "    ax2.grid(True)\n",
    "\n",
    "    plt.show()"
   ]
  },
  {
   "cell_type": "code",
   "execution_count": null,
   "metadata": {},
   "outputs": [],
   "source": [
    "def train_model(X_train, y_train, num_nodes, dropout_prob, lr, batch_size, epochs):\n",
    "    nn_model = tf.keras.Sequential([\n",
    "        tf.keras.layers.Dense(num_nodes, activation='relu', input_shape=(10,)), # the first argument is the # of nodes in the layers\n",
    "        tf.keras.layers.Dropout(dropout_prob),\n",
    "        tf.keras.layers.Dense(num_nodes, activation='relu'), # do not need input shape after initial layer\n",
    "        tf.keras.layers.Dropout(dropout_prob),\n",
    "        tf.keras.layers.Dense(1, activation='sigmoid') # projects predictions to be 0 or 1\n",
    "    ]) # creates a linear stack of layers as a model\n",
    "\n",
    "    nn_model.compile(optimizer=tf.keras.optimizers.Adam(lr), loss='binary_crossentropy', metrics=['accuracy'])\n",
    "    # lr is the learning rate, accuracy is an additional metric to consider which we can plot later\n",
    "\n",
    "    history = nn_model.fit(\n",
    "        X_train, y_train, epochs = epochs, batch_size = batch_size, validation_split=0.2, verbose = 0\n",
    "    )\n",
    "    # epoch is # of trials, validation_split is the fraction of training data used per training\n",
    "    # verbose = 0 stops it from printing everything\n",
    "\n",
    "    return nn_model, history"
   ]
  },
  {
   "cell_type": "code",
   "execution_count": null,
   "metadata": {},
   "outputs": [],
   "source": [
    "least_val_loss = float('inf') # set to infinity to start, so every model wins\n",
    "least_loss_model = None # set to empty\n",
    "epochs = 100\n",
    "for num_nodes in [16, 32, 64]:\n",
    "    for dropout_prob in [0, 0.2]:\n",
    "        for lr in [0.1, 0.005, 0.001]:\n",
    "            for batch_size in [32, 64, 128]:\n",
    "                print(f\"{num_nodes} nodes, dropout {dropout_prob}, lr {lr}, batch size {batch_size}\")\n",
    "                model, history = train_model(X_train, y_train, num_nodes, dropout_prob, lr, batch_size, epochs)\n",
    "                plot_history(history)\n",
    "                val_loss = model.evaluate(X_valid, y_valid) # note that this includes both loss and accuracy\n",
    "                if float(val_loss[0]) < least_val_loss: # storing lowest loss value and model\n",
    "                    least_val_loss = float(val_loss[0])\n",
    "                    least_loss_model = model "
   ]
  },
  {
   "cell_type": "code",
   "execution_count": null,
   "metadata": {},
   "outputs": [],
   "source": [
    "y_pred = least_loss_model.predict(X_test) \n",
    "y_pred = (y_pred > 0.5).astype(int).reshape(-1,) # converts predictions to 1 or 0 for class"
   ]
  },
  {
   "cell_type": "code",
   "execution_count": null,
   "metadata": {},
   "outputs": [],
   "source": [
    "print(classification_report(y_test, y_pred))\n",
    "# we get about an 87% accuracy \n",
    "# ... which is ... just okay lol. Not much better than KNN or SVM"
   ]
  }
 ],
 "metadata": {
  "kernelspec": {
   "display_name": "Python 3",
   "language": "python",
   "name": "python3"
  },
  "language_info": {
   "codemirror_mode": {
    "name": "ipython",
    "version": 3
   },
   "file_extension": ".py",
   "mimetype": "text/x-python",
   "name": "python",
   "nbconvert_exporter": "python",
   "pygments_lexer": "ipython3",
   "version": "3.9.6"
  }
 },
 "nbformat": 4,
 "nbformat_minor": 2
}
