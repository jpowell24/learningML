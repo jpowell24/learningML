{
 "cells": [
  {
   "cell_type": "code",
   "execution_count": 26,
   "metadata": {},
   "outputs": [],
   "source": [
    "from ieeg.auth import Session\n",
    "from IPython.display import Image\n",
    "\n",
    "import matplotlib.pyplot as plt\n",
    "from matplotlib import rc\n",
    "import numpy as np\n",
    "\n",
    "from scipy import signal as sig\n",
    "import math"
   ]
  },
  {
   "cell_type": "code",
   "execution_count": 27,
   "metadata": {},
   "outputs": [],
   "source": [
    "colors = [\"#cec5c1\", \"#9f8f7f\", \"#924a42\", \"#5a2028\",\n",
    "        \"#a4b9b1\", \"#4ea7a6\", \"#026d73\", \"#06494f\"];\n",
    "\n",
    "plt.rcParams['savefig.dpi'] = 300;\n",
    "\n",
    "rc('font', **{'family':'serif', 'serif':['Computer Modern']})\n",
    "rc('text', usetex = True)"
   ]
  },
  {
   "cell_type": "code",
   "execution_count": 46,
   "metadata": {},
   "outputs": [
    {
     "name": "stdout",
     "output_type": "stream",
     "text": [
      "<bound method Dataset.get_channel_indices of Dataset with: 62 channels.>\n"
     ]
    }
   ],
   "source": [
    "with open('jrp_ieeglogin.bin', 'r') as f:\n",
    "  session = Session('jrp24', f.read()); \n",
    "\n",
    "dataset = session.open_dataset('I521_Sub1_Training_ecog'); \n",
    "\n",
    "print(dataset.get_channel_indices); "
   ]
  },
  {
   "cell_type": "code",
   "execution_count": 29,
   "metadata": {},
   "outputs": [],
   "source": [
    "def load_full_channels(dataset, duration_secs, sampling_rate, chn_idx):\n",
    "  \"\"\"\n",
    "  Loads the entire channel from IEEG.org\n",
    "  Input:\n",
    "    dataset: the IEEG dataset object\n",
    "    duration_secs: the duration of the channel, in seconds\n",
    "    sampling_rate: the sampling rate of the channel, in Hz\n",
    "    chn_idx: the indicies of the m channels you want to load, as an array-like object\n",
    "  Returns:\n",
    "    [n, m] ndarry of the channels' values.\n",
    "  \"\"\"\n",
    "  #stores the segments of the channel's data\n",
    "  chn_segments = []\n",
    "\n",
    "  #how many segments do we expect?\n",
    "  num_segments = int(np.ceil(duration_secs * sampling_rate / 6e5))\n",
    "\n",
    "  #segment start times and the step\n",
    "  seg_start, step = np.linspace(1, duration_secs*1e6, num_segments, endpoint=False, retstep=True)\n",
    "\n",
    "  #get the segments\n",
    "  for start in seg_start:\n",
    "    chn_segments.append(dataset.get_data(start, step, chn_idx))\n",
    "\n",
    "  #concatenate the segments vertically\n",
    "  return np.vstack(chn_segments)\n"
   ]
  },
  {
   "cell_type": "code",
   "execution_count": 50,
   "metadata": {},
   "outputs": [
    {
     "name": "stdout",
     "output_type": "stream",
     "text": [
      "sec: 300.0, min: 5.0, hr: 0.08, ms: 299999.0\n"
     ]
    }
   ],
   "source": [
    "duration_us = dataset.end_time - dataset.start_time; # in microseconds\n",
    "duration_s = duration_us * 1e-6; # in seconds\n",
    "duration_min = duration_s / 60; # in seconds\n",
    "duration_hr = duration_min / 60; # in seconds\n",
    "duration_ms = duration_us * 1e-3; # in seconds\n",
    "\n",
    "period = 0.001; \n",
    "frequency = 1 / period \n",
    "\n",
    "print(f\"sec: {round(duration_s, 2)}, min: {round(duration_min, 2)}, hr: {round(duration_hr, 2)}, ms: {round(duration_ms, 2)}\")"
   ]
  },
  {
   "cell_type": "code",
   "execution_count": 59,
   "metadata": {},
   "outputs": [],
   "source": [
    "num_channels = 62; \n",
    "fig, axs = plt.subplots(num_channels, 1); \n",
    "\n",
    "fig.set_figwidth(15); \n",
    "fig.set_figheight(62); \n",
    "\n",
    "for i in range(62):\n",
    "    signal = load_full_channels(dataset, duration_s, frequency, [i]);\n",
    "    x_axis = np.linspace(0, len(signal), len(signal)) / frequency;\n",
    "\n",
    "    axs[i].plot(x_axis, signal, color = colors[5], linewidth = 0.5);\n",
    "\n",
    "    # axs[i].set_xlabel(\"Time (s)\");\n",
    "    # axs[i].set_ylabel(\"Voltage ($\\mu$V)\");\n",
    "\n",
    "plt.tight_layout(); \n",
    "plt.subplots_adjust(left = None, bottom = None, right = None, top = None, wspace = None, hspace = None); \n",
    "plt.show(); "
   ]
  }
 ],
 "metadata": {
  "kernelspec": {
   "display_name": "Python 3",
   "language": "python",
   "name": "python3"
  },
  "language_info": {
   "codemirror_mode": {
    "name": "ipython",
    "version": 3
   },
   "file_extension": ".py",
   "mimetype": "text/x-python",
   "name": "python",
   "nbconvert_exporter": "python",
   "pygments_lexer": "ipython3",
   "version": "3.9.6"
  }
 },
 "nbformat": 4,
 "nbformat_minor": 2
}
